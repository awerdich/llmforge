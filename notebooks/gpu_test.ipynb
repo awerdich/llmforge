{
 "cells": [
  {
   "cell_type": "markdown",
   "id": "6cf255fd-04d1-4129-afe5-48d401ae5165",
   "metadata": {},
   "source": [
    "### PyTorch Datasets ###"
   ]
  },
  {
   "cell_type": "code",
   "execution_count": 1,
   "id": "2fde0f31-f5eb-490d-beca-a35db0e09b77",
   "metadata": {},
   "outputs": [
    {
     "name": "stdout",
     "output_type": "stream",
     "text": [
      "Package version: v0.0.1\n",
      "Authors:         The Core for Computational Biomedicine at Harvard Medical School\n",
      "Python version:  3.12.3 (main, Jun 18 2025, 17:59:45) [GCC 13.3.0]\n"
     ]
    }
   ],
   "source": [
    "import sys\n",
    "import logging\n",
    "import torch\n",
    "\n",
    "logger = logging.getLogger(__name__)\n",
    "logger.setLevel(logging.INFO)\n",
    "\n",
    "%load_ext autoreload\n",
    "%autoreload 2\n",
    "import llmforge\n",
    "\n",
    "# Print version info\n",
    "print(f'Package version: {llmforge.__version__}')\n",
    "print(f'Authors:         {llmforge.__author__}')\n",
    "print(f'Python version:  {sys.version}')"
   ]
  },
  {
   "cell_type": "code",
   "execution_count": 2,
   "id": "fa4e3d06-2911-4c41-bb1e-d61506859fd8",
   "metadata": {},
   "outputs": [
    {
     "name": "stdout",
     "output_type": "stream",
     "text": [
      "CUDA available: True\n",
      "Number of GPUs found:  1\n",
      "Current device ID: 0\n",
      "GPU device name:   NVIDIA GeForce RTX 3060 Laptop GPU\n",
      "PyTorch version:   2.8.0a0+34c6371d24.nv25.08\n",
      "CUDA version:      13.0\n",
      "CUDNN version:     91200\n"
     ]
    }
   ],
   "source": [
    "def get_gpu_info(device_str: str = None):\n",
    "    if device_str is None:\n",
    "        is_cuda = torch.cuda.is_available()\n",
    "        print(f'CUDA available: {is_cuda}')\n",
    "        print(f'Number of GPUs found:  {torch.cuda.device_count()}')\n",
    "        if is_cuda:\n",
    "            print(f'Current device ID: {torch.cuda.current_device()}')\n",
    "            print(f'GPU device name:   {torch.cuda.get_device_name(0)}')\n",
    "            print(f'PyTorch version:   {torch.__version__}')\n",
    "            print(f'CUDA version:      {torch.version.cuda}')\n",
    "            print(f'CUDNN version:     {torch.backends.cudnn.version()}')\n",
    "            device_str = 'cuda:0'\n",
    "            torch.cuda.empty_cache()\n",
    "        else:\n",
    "            device_str = 'cpu'\n",
    "        info_msg = f'Device for model training/inference: {device_str}'\n",
    "        device = torch.device(device_str)\n",
    "        logger.info(info_msg)\n",
    "        return device, device_str\n",
    "\n",
    "# Set device\n",
    "device, device_str = get_gpu_info()"
   ]
  }
 ],
 "metadata": {
  "kernelspec": {
   "display_name": "Python 3 (ipykernel)",
   "language": "python",
   "name": "python3"
  },
  "language_info": {
   "codemirror_mode": {
    "name": "ipython",
    "version": 3
   },
   "file_extension": ".py",
   "mimetype": "text/x-python",
   "name": "python",
   "nbconvert_exporter": "python",
   "pygments_lexer": "ipython3",
   "version": "3.12.3"
  }
 },
 "nbformat": 4,
 "nbformat_minor": 5
}
